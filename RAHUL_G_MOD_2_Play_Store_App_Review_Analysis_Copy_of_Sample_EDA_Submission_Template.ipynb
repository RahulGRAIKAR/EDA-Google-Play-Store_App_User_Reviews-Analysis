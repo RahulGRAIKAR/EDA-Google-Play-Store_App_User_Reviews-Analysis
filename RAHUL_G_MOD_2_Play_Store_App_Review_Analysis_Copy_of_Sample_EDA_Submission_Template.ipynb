{
  "nbformat": 4,
  "nbformat_minor": 0,
  "metadata": {
    "colab": {
      "private_outputs": true,
      "provenance": [],
      "collapsed_sections": [
        "vncDsAP0Gaoa",
        "FJNUwmbgGyua",
        "w6K7xa23Elo4",
        "yQaldy8SH6Dl",
        "PH-0ReGfmX4f",
        "mDgbUHAGgjLW",
        "JcMwzZxoAimU"
      ],
      "include_colab_link": true
    },
    "kernelspec": {
      "name": "python3",
      "display_name": "Python 3"
    },
    "language_info": {
      "name": "python"
    }
  },
  "cells": [
    {
      "cell_type": "markdown",
      "metadata": {
        "id": "view-in-github",
        "colab_type": "text"
      },
      "source": [
        "<a href=\"https://colab.research.google.com/github/RahulGRAIKAR/MOD-2-PLAY-STORE-USER-ANALYSIS/blob/main/RAHUL_G_MOD_2_Play_Store_App_Review_Analysis_Copy_of_Sample_EDA_Submission_Template.ipynb\" target=\"_parent\"><img src=\"https://colab.research.google.com/assets/colab-badge.svg\" alt=\"Open In Colab\"/></a>"
      ]
    },
    {
      "cell_type": "markdown",
      "source": [
        "# **Project Name**    -  **Playstore App Review Analysis**\n",
        "  -\n",
        "\n"
      ],
      "metadata": {
        "id": "vncDsAP0Gaoa"
      }
    },
    {
      "cell_type": "markdown",
      "source": [
        "##### **Project Type**    - EDA\n",
        "##### **Contribution**    - Individual\n",
        "\n",
        "```\n",
        "\n"
      ],
      "metadata": {
        "id": "beRrZCGUAJYm"
      }
    },
    {
      "cell_type": "markdown",
      "source": [
        "# **Project Summary -**"
      ],
      "metadata": {
        "id": "FJNUwmbgGyua"
      }
    },
    {
      "cell_type": "markdown",
      "source": [
        "Objective:\n",
        "\n",
        "The goal of this project is to analyze Play Store app review data to extract actionable insights for app developers and businesses. This analysis aims to identify key factors that influence app success, such as category popularity, user ratings, app size, pricing strategy, and user sentiments.\n",
        "These actionables aim to optimize app development, improve user satisfaction, and drive business growth by leveraging insights from the Play Store data. The focus should be on understanding user preferences, enhancing the app experience, and using targeted strategies to maximize market potential.\n",
        "\n"
      ],
      "metadata": {
        "id": "F6v_1wHtG2nS"
      }
    },
    {
      "cell_type": "markdown",
      "source": [
        "# **GitHub Link -**"
      ],
      "metadata": {
        "id": "w6K7xa23Elo4"
      }
    },
    {
      "cell_type": "markdown",
      "source": [
        "Provide your GitHub Link here."
      ],
      "metadata": {
        "id": "h1o69JH3Eqqn"
      }
    },
    {
      "cell_type": "markdown",
      "source": [
        "# **Problem Statement**\n"
      ],
      "metadata": {
        "id": "yQaldy8SH6Dl"
      }
    },
    {
      "cell_type": "markdown",
      "source": [
        "**BUSINESS PROBLEM OVERVIEW**\n",
        "\n",
        "The goal is to leverage Play Store app data to identify key factors that contribute to app success and engagement. This will help developers make informed decisions to improve their apps' performance in the Android market.\n",
        "Data Availability\n",
        "Two datasets are available:\n",
        " * Play Store App Data: Contains information on various apps, including their category, rating, size, and other relevant features.\n",
        " * Customer Reviews: Includes user reviews of Android apps, providing insights into user sentiment and feedback.\n",
        "Business Goals\n",
        "The primary objective is to analyze the data to uncover the factors that drive app success and engagement. This information will be used to:\n",
        " * Inform Developers: Provide insights to developers on how to create successful apps.\n",
        " * Identify Target Market: Help developers understand their target audience better.\n",
        " * Prioritize Features: Guide developers in selecting the most impactful features for their apps.\n",
        " * Improve Marketing Strategies: Assist developers in reaching the right audience through effective marketing campaigns.\n",
        "Potential Benefits\n",
        "By identifying and addressing the key factors, developers can:\n",
        " * Increase App Downloads: Attract more users to their apps.\n",
        " * Boost User Engagement: Encourage users to spend more time within the app.\n",
        " * Improve App Retention: Reduce user churn and retain loyal users.\n",
        " * Gain a Competitive Advantage: Differentiate their apps from competitors in the market.\n"
      ],
      "metadata": {
        "id": "DpeJGUA3kjGy"
      }
    },
    {
      "cell_type": "markdown",
      "source": [
        "#### **Define Your Business Objective?**"
      ],
      "metadata": {
        "id": "PH-0ReGfmX4f"
      }
    },
    {
      "cell_type": "markdown",
      "source": [
        "\n",
        "\n",
        "***App engagement and success.***"
      ],
      "metadata": {
        "id": "PhDvGCAqmjP1"
      }
    },
    {
      "cell_type": "markdown",
      "source": [
        "# **General Guidelines** : -  "
      ],
      "metadata": {
        "id": "mDgbUHAGgjLW"
      }
    },
    {
      "cell_type": "markdown",
      "source": [
        "1.   Well-structured, formatted, and commented code is required.\n",
        "2.   Exception Handling, Production Grade Code & Deployment Ready Code will be a plus. Those students will be awarded some additional credits.\n",
        "     \n",
        "     The additional credits will have advantages over other students during Star Student selection.\n",
        "       \n",
        "             [ Note: - Deployment Ready Code is defined as, the whole .ipynb notebook should be executable in one go\n",
        "                       without a single error logged. ]\n",
        "\n",
        "3.   Each and every logic should have proper comments.\n",
        "4. You may add as many number of charts you want. Make Sure for each and every chart the following format should be answered.\n",
        "        \n",
        "\n",
        "```\n",
        "# Chart visualization code\n",
        "```\n",
        "            \n",
        "\n",
        "*   Why did you pick the specific chart?\n",
        "*   What is/are the insight(s) found from the chart?\n",
        "* Will the gained insights help creating a positive business impact?\n",
        "Are there any insights that lead to negative growth? Justify with specific reason.\n",
        "\n",
        "5. You have to create at least 20 logical & meaningful charts having important insights.\n",
        "\n",
        "\n",
        "[ Hints : - Do the Vizualization in  a structured way while following \"UBM\" Rule.\n",
        "\n",
        "U - Univariate Analysis,\n",
        "\n",
        "B - Bivariate Analysis (Numerical - Categorical, Numerical - Numerical, Categorical - Categorical)\n",
        "\n",
        "M - Multivariate Analysis\n",
        " ]\n",
        "\n",
        "\n",
        "\n"
      ],
      "metadata": {
        "id": "ZrxVaUj-hHfC"
      }
    },
    {
      "cell_type": "markdown",
      "source": [
        "# ***Let's Begin !***"
      ],
      "metadata": {
        "id": "O_i_v8NEhb9l"
      }
    },
    {
      "cell_type": "markdown",
      "source": [
        "## ***1. Know Your Data***"
      ],
      "metadata": {
        "id": "HhfV-JJviCcP"
      }
    },
    {
      "cell_type": "markdown",
      "source": [
        "### Import Libraries"
      ],
      "metadata": {
        "id": "Y3lxredqlCYt"
      }
    },
    {
      "cell_type": "code",
      "source": [
        "# Import Libraries\n",
        "import pandas as pd\n",
        "import numpy as np\n",
        "import seaborn as sns\n",
        "import matplotlib.pyplot as plt\n",
        "# Optional: For Jupyter notebooks/ Google Colab, display plots inline\n",
        "%matplotlib inline\n",
        "# Jupyter notebooks/ Google Colab : Graphs or charts are created with the code line itself\n",
        "# In other IDE : Pop up\n",
        "#Set options to be max for----has shown below\n",
        "pd.set_option('display.max_columns', None) # None --> All Columns\n",
        "pd.set_option('display.max_rows', 1000)\n",
        "# Ignore all warnings\n",
        "import warnings\n",
        "warnings.filterwarnings(\"ignore\")"
      ],
      "metadata": {
        "id": "M8Vqi-pPk-HR"
      },
      "execution_count": null,
      "outputs": []
    },
    {
      "cell_type": "markdown",
      "source": [
        "### Dataset Loading"
      ],
      "metadata": {
        "id": "3RnN4peoiCZX"
      }
    },
    {
      "cell_type": "code",
      "source": [
        "# Load Dataset\n",
        "## Loading file\n",
        "import pandas as pd\n",
        "import numpy as np\n",
        "#Connecting Google Drive with the Colab\n",
        "from google.colab import drive\n",
        "drive.mount('/content/drive')"
      ],
      "metadata": {
        "id": "4CkvbW_SlZ_R"
      },
      "execution_count": null,
      "outputs": []
    },
    {
      "cell_type": "code",
      "source": [
        "# Load Data\n",
        "\n",
        "play_store_data= pd.read_csv('/content/drive/MyDrive/MODULE 2 CLASS LEARNING/Play Store Data.csv')\n",
        "user_reviews_data = pd.read_csv('/content/drive/MyDrive/MODULE 2 CLASS LEARNING/User Reviews.csv')\n",
        "\n"
      ],
      "metadata": {
        "id": "f7F8_YCQTz1n"
      },
      "execution_count": null,
      "outputs": []
    },
    {
      "cell_type": "code",
      "source": [
        "play_store_data.head()"
      ],
      "metadata": {
        "id": "-VUUdF3Vfa8F"
      },
      "execution_count": null,
      "outputs": []
    },
    {
      "cell_type": "code",
      "source": [
        "play_store_data.shape"
      ],
      "metadata": {
        "id": "3UNTzigyDQva"
      },
      "execution_count": null,
      "outputs": []
    },
    {
      "cell_type": "code",
      "source": [
        "user_reviews_data.head()\n"
      ],
      "metadata": {
        "id": "6aytx-ICfL0w"
      },
      "execution_count": null,
      "outputs": []
    },
    {
      "cell_type": "code",
      "source": [
        "user_reviews_data.shape"
      ],
      "metadata": {
        "id": "7QR29Qy7DWQK"
      },
      "execution_count": null,
      "outputs": []
    },
    {
      "cell_type": "code",
      "source": [
        "#Merging both datasets that is playstore dataset1 and user_review dataset2 has final_playstore_data\n",
        "final_playstore_data=pd.merge(play_store_data,user_reviews_data,on=\"App\",how=\"inner\")  # used inner join to include apps only which are there in both datasets"
      ],
      "metadata": {
        "id": "UzbbTHXkXeHA"
      },
      "execution_count": null,
      "outputs": []
    },
    {
      "cell_type": "markdown",
      "source": [
        "### Dataset First View"
      ],
      "metadata": {
        "id": "x71ZqKXriCWQ"
      }
    },
    {
      "cell_type": "code",
      "source": [
        "# Dataset First Look\n",
        "#.head()---Default gives the first 5 rows of dataset\n",
        "final_playstore_data.head()"
      ],
      "metadata": {
        "id": "LWNFOSvLl09H"
      },
      "execution_count": null,
      "outputs": []
    },
    {
      "cell_type": "code",
      "source": [
        "#.tail()---Default gives the last 5 rows of dataset\n",
        "final_playstore_data.tail()"
      ],
      "metadata": {
        "id": "z60i4KjbfwSQ"
      },
      "execution_count": null,
      "outputs": []
    },
    {
      "cell_type": "markdown",
      "source": [
        "### Dataset Rows & Columns count"
      ],
      "metadata": {
        "id": "7hBIi_osiCS2"
      }
    },
    {
      "cell_type": "code",
      "source": [
        "# Dataset Rows & Columns count\n",
        "#.shape gives the total numbers of coumns and rows in the datasets\n",
        "final_playstore_data.shape"
      ],
      "metadata": {
        "id": "Kllu7SJgmLij"
      },
      "execution_count": null,
      "outputs": []
    },
    {
      "cell_type": "markdown",
      "source": [
        "### Dataset Information"
      ],
      "metadata": {
        "id": "JlHwYmJAmNHm"
      }
    },
    {
      "cell_type": "code",
      "source": [
        "# Dataset Info\n",
        "#.info(--gives information about the total numbers of non-null vaules-count,numbers of coulumns ,rows)\n",
        "final_playstore_data.info()\n"
      ],
      "metadata": {
        "id": "e9hRXRi6meOf"
      },
      "execution_count": null,
      "outputs": []
    },
    {
      "cell_type": "code",
      "source": [
        "final_playstore_data.columns"
      ],
      "metadata": {
        "id": "GjV4ptw-mTCs"
      },
      "execution_count": null,
      "outputs": []
    },
    {
      "cell_type": "markdown",
      "source": [
        "\n",
        "\n",
        "# Column Descriptions\n",
        "\n",
        "* Application Name: The name of the mobile application.\n",
        " * Category: The primary category to which the app belongs (e.g., Games, Productivity, Education).\n",
        " * Rating: The overall user rating of the app, represented as a numeric value (e.g., 4.5).\n",
        " * Reviews: The total number of user reviews for the app, as recorded when the data was scraped.\n",
        " * Size: The size of the app file (e.g., 15MB, 50MB), as recorded when the data was scraped.\n",
        " * Installs: The total number of times the app has been downloaded/installed by users, as recorded when the data was scraped.\n",
        " * Type: he cost of the app if it is paid, represented as a numeric value\n",
        " * Price: The cost of the app if it is paid, represented as a numeric value (e.g., $2.99). If the app is free, the price will be 0.\n",
        " * Content Rating: The age group the app is targeted at (e.g., Everyone, Teen, Mature 21+, Adult).\n",
        " * Genres: Additional categories or genres the app belongs to, apart from its main category (e.g., Musical, Family, Game).\n",
        "User Reviews\n",
        " * Translated_Review: The user review of the app, which has been preprocessed (e.g., cleaned, tokenized) and translated into English.\n",
        " * Sentiment: The sentiment of the user review, categorized as Positive, Negative, or Neutral, based on text analysis.\n",
        " * Sentiment_Polarity: A numeric score representing the sentiment polarity of the review, ranging from -1 (most negative) to 1 (most positive).\n",
        " * Sentiment_Subjectivity: A numeric score indicating the subjectivity of the review, ranging from 0 (objective) to 1 (subjective), showing how subjective or opinion-based the review is.\n"
      ],
      "metadata": {
        "id": "VknRGn9jqDkw"
      }
    },
    {
      "cell_type": "markdown",
      "source": [
        "**OBJECTIVE**\n",
        "\n",
        "***App engagement and success.***\n",
        "\n",
        "How actually users are loving the apps and analyzing data what makes android apps popular on the playstore by analzing data on things like(App,Category,ratings size and even more etc)"
      ],
      "metadata": {
        "id": "tWYMvW_QvJuI"
      }
    },
    {
      "cell_type": "markdown",
      "source": [
        "### Analysis (Brainstorm)\n",
        "\n",
        "\n",
        "1. Distribution of Apps vs Ratings\n",
        "\n",
        "2. Distribution of category vs Ratings\n",
        "\n",
        "3. Distribution of category vs Installs\n",
        "\n",
        "4. Distribution of category vs Reviews\n",
        "\n",
        "5. Distribution of category vs Type\n",
        "\n",
        "6. Distribution of category vs Content Rating\n",
        "\n",
        "7. Relation between Installs vs Installs\n",
        "\n",
        "8. Relation between Installs  vs Price\n",
        "\n",
        "9. Distrubution of Sentiment\n",
        "\n",
        "10. Realation  between Sentiment vs Rating\n",
        "\n",
        "11. Distrubution of Sentiment by Category(average sentiment scores for different apps categories).\n",
        "\n",
        "12. Realation between  Size vs Installs\n",
        "\n",
        "13. Realation between Size vs Ratings\n",
        "\n",
        "14. Distrubution of  content Rating vs Size\n",
        "\n",
        "15. Distrubution of  Content Rating vs Installs\n",
        "\n",
        "16.Distrubution of   Sentiment_Polarity vs Content Rating\n",
        "\n",
        "17.Realation between  Sentiment_Polarity vs Rating\n",
        "\n",
        "18.Realation between  Sentiment_Polarity vs Sentiment_Subjectivity\n",
        "\n",
        "\n",
        "\n",
        "\n",
        "\n",
        "\n",
        "\n"
      ],
      "metadata": {
        "id": "zuL9-ai3wLol"
      }
    },
    {
      "cell_type": "code",
      "source": [],
      "metadata": {
        "id": "0Fmn2tOtLsis"
      },
      "execution_count": null,
      "outputs": []
    },
    {
      "cell_type": "markdown",
      "source": [
        "#### Analysis (Structuring & Planning)\n",
        "\n",
        "\n",
        "Category 1 : Frequency Distribution Analysis\n",
        "\n",
        "1. Distribution of App Ratings\n",
        "\n",
        "2. Distribution of App Installs\n",
        "\n",
        "3. Distribution of App Price\n",
        "\n",
        "4. Distribution of App Size\n",
        "\n",
        "Category 2 : Category-Level Analysis\n",
        "\n",
        "1. Free vs Paid Apps (countplot and barplot)\n",
        "\n",
        "2. Popularity Across Categories\n",
        "\n",
        "3. Content Rating vs. Count(countplot and boxplot)\n",
        "\n",
        "\n",
        "\n",
        "Category 3 : Relationships Between Features Analysis\n",
        "\n",
        "1. Rating vs Installs\n",
        "\n",
        "2. Rating vs Price\n",
        "\n",
        "3. Size vs Installs\n",
        "\n",
        "\n",
        "Category 4 : Sentiment Analysis\n",
        "\n",
        "1.  Overall Sentiment Trends\n",
        "\n",
        "2. Sentiment vs. App Features\n",
        "\n",
        "\n",
        "\n",
        "\n",
        "\n",
        "\n"
      ],
      "metadata": {
        "id": "F217dsLQ2s5E"
      }
    },
    {
      "cell_type": "markdown",
      "source": [
        "#### Duplicate Values"
      ],
      "metadata": {
        "id": "35m5QtbWiB9F"
      }
    },
    {
      "cell_type": "code",
      "source": [
        "final_playstore_data[\"App\"].value_counts()"
      ],
      "metadata": {
        "id": "Fzd1eBMRnlQ9"
      },
      "execution_count": null,
      "outputs": []
    },
    {
      "cell_type": "code",
      "source": [
        "# Dataset Duplicate Value Count\n",
        "len(final_playstore_data[final_playstore_data.duplicated()])"
      ],
      "metadata": {
        "id": "1sLdpKYkmox0"
      },
      "execution_count": null,
      "outputs": []
    },
    {
      "cell_type": "markdown",
      "source": [
        "Main point we will not drop the duplicates all apps are repeating but the user Translated_Review\t is different and it is necessary in this analysis to keep all users Translated_Reviews so we will not drop the duplicates"
      ],
      "metadata": {
        "id": "sAv_YhxtDvyp"
      }
    },
    {
      "cell_type": "code",
      "source": [
        "list(final_playstore_data['Rating'].unique())#hence no rating is >5 its correct to go further"
      ],
      "metadata": {
        "id": "qLpXO5fzXp_u"
      },
      "execution_count": null,
      "outputs": []
    },
    {
      "cell_type": "markdown",
      "source": [
        "#### Missing Values/Null Values"
      ],
      "metadata": {
        "id": "PoPl-ycgm1ru"
      }
    },
    {
      "cell_type": "code",
      "source": [
        "# Missing Values/Null Values Count\n",
        "print(final_playstore_data.isnull().sum())\n",
        "\n"
      ],
      "metadata": {
        "id": "GgHWkxvamxVg"
      },
      "execution_count": null,
      "outputs": []
    },
    {
      "cell_type": "markdown",
      "source": [
        "### What did you know about your dataset?"
      ],
      "metadata": {
        "id": "H0kj-8xxnORC"
      }
    },
    {
      "cell_type": "markdown",
      "source": [
        "\n",
        "The given is a dataset from playstore dataset, and we have to analysis the how we can improve the success and engagement of playstore to create more android\n",
        "apps and the insights behind it.\n",
        "hence we have a missing values we have to treat the missing values and duplicated values we have deal with it .\n",
        "Main point we will not drop the duplicates all apps are repeating but the user Translated_Reviews\tis different and it is necessary in this analysis to keep all users Translated_Review\t so we will not drop the duplicates"
      ],
      "metadata": {
        "id": "gfoNAAC-nUe_"
      }
    },
    {
      "cell_type": "markdown",
      "source": [
        "## ***2. Understanding Your Variables***"
      ],
      "metadata": {
        "id": "nA9Y7ga8ng1Z"
      }
    },
    {
      "cell_type": "code",
      "source": [
        "# Dataset Columns\n",
        "final_playstore_data.columns"
      ],
      "metadata": {
        "id": "j7xfkqrt5Ag5"
      },
      "execution_count": null,
      "outputs": []
    },
    {
      "cell_type": "code",
      "source": [
        "final_playstore_data.shape"
      ],
      "metadata": {
        "id": "nCkYOegHS4m2"
      },
      "execution_count": null,
      "outputs": []
    },
    {
      "cell_type": "code",
      "source": [
        "# Dataset Describe\n",
        "final_playstore_data.describe()"
      ],
      "metadata": {
        "id": "DnOaZdaE5Q5t"
      },
      "execution_count": null,
      "outputs": []
    },
    {
      "cell_type": "markdown",
      "source": [
        "### Variables Description\n",
        "\n",
        "\n",
        "\n"
      ],
      "metadata": {
        "id": "PBTbrJXOngz2"
      }
    },
    {
      "cell_type": "markdown",
      "source": [
        "\n",
        "\n",
        "\n",
        "\n",
        " * Application Name: The name of the mobile application.\n",
        " * Category: The primary category to which the app belongs (e.g., Games, Productivity, Education).\n",
        " * Rating: The overall user rating of the app, represented as a numeric value (e.g., 4.5).\n",
        " * Reviews: The total number of user reviews for the app, as recorded when the data was scraped.\n",
        " * Size: The size of the app file (e.g., 15MB, 50MB), as recorded when the data was scraped.\n",
        " * Installs: The total number of times the app has been downloaded/installed by users, as recorded when the data was scraped.\n",
        " * Type: he cost of the app if it is paid, represented as a numeric value\n",
        " * Price: The cost of the app if it is paid, represented as a numeric value (e.g., $2.99). If the app is free, the price will be 0.\n",
        " * Content Rating: The age group the app is targeted at (e.g., Everyone, Teen, Mature 21+, Adult).\n",
        " * Genres: Additional categories or genres the app belongs to, apart from its main category (e.g., Musical, Family, Game).\n",
        "User Reviews\n",
        " * Translated_Review: The user review of the app, which has been preprocessed (e.g., cleaned, tokenized) and translated into English.\n",
        " * Sentiment: The sentiment of the user review, categorized as Positive, Negative, or Neutral, based on text analysis.\n",
        " * Sentiment_Polarity: A numeric score representing the sentiment polarity of the review, ranging from -1 (most negative) to 1 (most positive).\n",
        " * Sentiment_Subjectivity: A numeric score indicating the subjectivity of the review, ranging from 0 (objective) to 1 (subjective), showing how subjective or opinion-based the review is.\n"
      ],
      "metadata": {
        "id": "aJV4KIxSnxay"
      }
    },
    {
      "cell_type": "markdown",
      "source": [
        "### Check Unique Values for each variable."
      ],
      "metadata": {
        "id": "u3PMJOP6ngxN"
      }
    },
    {
      "cell_type": "code",
      "source": [
        "# Check Unique Values for each variable.\n",
        "for i in final_playstore_data.columns.tolist():\n",
        "  print(\"No. of unique values in \",i,\"is\",final_playstore_data[i].nunique(),\".\")"
      ],
      "metadata": {
        "id": "zms12Yq5n-jE"
      },
      "execution_count": null,
      "outputs": []
    },
    {
      "cell_type": "code",
      "source": [
        "# Check Unique Values for each variable.\n",
        "\n",
        "def check_unique_values(final_playstore_data):\n",
        "    for column in final_playstore_data.columns:\n",
        "        print(f\"Unique values in '{column}':\")\n",
        "        print(final_playstore_data[column].unique())\n",
        "        print(\"-\" * 50)\n",
        "\n",
        "check_unique_values(final_playstore_data)"
      ],
      "metadata": {
        "id": "xqJC5Xv0OTSg"
      },
      "execution_count": null,
      "outputs": []
    },
    {
      "cell_type": "markdown",
      "source": [
        "## 3. ***Data Wrangling***"
      ],
      "metadata": {
        "id": "dauF4eBmngu3"
      }
    },
    {
      "cell_type": "markdown",
      "source": [
        "### Data Wrangling Code"
      ],
      "metadata": {
        "id": "bKJF3rekwFvQ"
      }
    },
    {
      "cell_type": "markdown",
      "source": [
        "Define the data\n"
      ],
      "metadata": {
        "id": "NrlwP5WKlV-d"
      }
    },
    {
      "cell_type": "code",
      "source": [
        "# Further I am trying to Define the data\n",
        "# Time Filter --> None  (In general : We don't use full data --> last 2/3 years (Volume of data and objective))\n",
        "# Exclusions --> None"
      ],
      "metadata": {
        "id": "qf10FgbUld2d"
      },
      "execution_count": null,
      "outputs": []
    },
    {
      "cell_type": "code",
      "source": [
        "final_playstore_data.columns"
      ],
      "metadata": {
        "id": "44clhY473IWG"
      },
      "execution_count": null,
      "outputs": []
    },
    {
      "cell_type": "code",
      "source": [
        "#data preparation\n",
        "key_columns=['App', 'Category', 'Rating', 'Reviews', 'Size', 'Installs', 'Type',\n",
        "       'Price', 'Content Rating', 'Genres', 'Last Updated', 'Current Ver',\n",
        "       'Android Ver', 'Translated_Review', 'Sentiment', 'Sentiment_Polarity',\n",
        "       'Sentiment_Subjectivity']\n",
        "# Dealing with Relevant Columns (hear we took all columns)\n",
        "# Operations are Faster as well less space is consumed.\n",
        "df_subset = final_playstore_data[key_columns]\n",
        "df_subset.head()\n",
        "\n"
      ],
      "metadata": {
        "id": "5UDSZI3nlvqg"
      },
      "execution_count": null,
      "outputs": []
    },
    {
      "cell_type": "code",
      "source": [
        "df_subset.shape"
      ],
      "metadata": {
        "id": "IzimXqj2nLSl"
      },
      "execution_count": null,
      "outputs": []
    },
    {
      "cell_type": "code",
      "source": [
        "final_playstore_data.shape"
      ],
      "metadata": {
        "id": "NfGrMGWAmPih"
      },
      "execution_count": null,
      "outputs": []
    },
    {
      "cell_type": "code",
      "source": [
        "# Write your code to make your dataset analysis ready.\n",
        "list(df_subset['Rating'].unique())#hence no rating is >5 its correct to go further"
      ],
      "metadata": {
        "id": "wk-9a2fpoLcV"
      },
      "execution_count": null,
      "outputs": []
    },
    {
      "cell_type": "code",
      "source": [
        "df_subset.info()"
      ],
      "metadata": {
        "id": "lRxF1b7Kqgcl"
      },
      "execution_count": null,
      "outputs": []
    },
    {
      "cell_type": "code",
      "source": [
        "for col in df_subset.columns:\n",
        "  duplicate_count =df_subset[col].duplicated().sum()\n",
        "  print(f\"Duplicate count in {col}:{duplicate_count}\")"
      ],
      "metadata": {
        "id": "0QOXVK9QqwbN"
      },
      "execution_count": null,
      "outputs": []
    },
    {
      "cell_type": "markdown",
      "source": [
        "#### Missing Value Treatment\n"
      ],
      "metadata": {
        "id": "4K1vALZUVCMQ"
      }
    },
    {
      "cell_type": "code",
      "source": [
        "# Percentage of Null Values\n",
        "for i in df_subset.columns:\n",
        "  print(f'{i} : {(df_subset[i].isna().sum()/df_subset.shape[0])*100}')"
      ],
      "metadata": {
        "id": "HTgFBkSC357D"
      },
      "execution_count": null,
      "outputs": []
    },
    {
      "cell_type": "code",
      "source": [
        "df_subset.shape"
      ],
      "metadata": {
        "id": "1PWqLXi9WpsN"
      },
      "execution_count": null,
      "outputs": []
    },
    {
      "cell_type": "code",
      "source": [
        "#Rating column has very low rate of null values so dropping those rows\n",
        "# Low percentage of null value : we drop full row----(Rating : 0.032609936247574633)\n",
        "\n",
        "df_subset.dropna(subset=[\"Rating\"],inplace=True)\n",
        "df_subset.info()\n"
      ],
      "metadata": {
        "id": "O2uJJeP0ljYV"
      },
      "execution_count": null,
      "outputs": []
    },
    {
      "cell_type": "code",
      "source": [
        "list(df_subset['Rating'].unique())#hence no nan value is present now has previous one."
      ],
      "metadata": {
        "id": "1nGre3Kmnv3H"
      },
      "execution_count": null,
      "outputs": []
    },
    {
      "cell_type": "code",
      "source": [
        "## 20-40 % --> Null values : We treat the null values as per the requirement\n",
        "\n",
        "'''Treat rows of specific columns(Translated_Review : 40.80888946862109,\n",
        "Sentiment : 40.800736984559194,\n",
        "Sentiment_Polarity : 40.800736984559194,\n",
        "Sentiment_Subjectivity : 40.800736984559194--- each rows ---wer the rows are null or empty treat those rows and move forward'''\n",
        "#so we have to treat it now-----\n",
        "\n",
        "df_subset[\"Translated_Review\"].fillna(\"No_Review\",inplace=True)\n",
        "df_subset[\"Sentiment\"].fillna(\"Unknown\",inplace=True)\n",
        "df_subset[\"Sentiment_Polarity\"].fillna(0,inplace=True)\n",
        "df_subset[\"Sentiment_Subjectivity\"].fillna(0,inplace=True)"
      ],
      "metadata": {
        "id": "lPwaPlakU3M_"
      },
      "execution_count": null,
      "outputs": []
    },
    {
      "cell_type": "code",
      "source": [
        "df_subset.info()\n"
      ],
      "metadata": {
        "id": "txZ6aT9-cEjy"
      },
      "execution_count": null,
      "outputs": []
    },
    {
      "cell_type": "code",
      "source": [
        "df_subset.shape\n"
      ],
      "metadata": {
        "id": "v3n4Yv2bcEgh"
      },
      "execution_count": null,
      "outputs": []
    },
    {
      "cell_type": "markdown",
      "source": [
        "####  Variable Engineering"
      ],
      "metadata": {
        "id": "zGjLi3IGqCUn"
      }
    },
    {
      "cell_type": "code",
      "source": [
        "df_subset.info()"
      ],
      "metadata": {
        "id": "Z9TR_8HqpzoE"
      },
      "execution_count": null,
      "outputs": []
    },
    {
      "cell_type": "code",
      "source": [
        "# We have to convert the Price (object)---to Price(float)\n",
        "\n",
        "df_subset[\"Price\"]=df_subset[\"Price\"].apply((lambda x:str(x).replace(\"$\",\"\") if \"$\" in str(x) else str(x)))\n",
        "df_subset[\"Price\"]=df_subset[\"Price\"].apply((lambda x:float(x)))\n"
      ],
      "metadata": {
        "id": "5CxtkJwasmfr"
      },
      "execution_count": null,
      "outputs": []
    },
    {
      "cell_type": "code",
      "source": [
        "#We  have to convert the Reviews (object)---to Reviews(int)\n",
        "\n",
        "df_subset[\"Reviews\"]=pd.to_numeric(df_subset[\"Reviews\"],errors=\"coerce\")"
      ],
      "metadata": {
        "id": "g3vcttWEsmXK"
      },
      "execution_count": null,
      "outputs": []
    },
    {
      "cell_type": "code",
      "source": [
        "#We have to convert the Installs (object)---to Installs(float)\n",
        "\n",
        "df_subset[\"Installs\"]=df_subset[\"Installs\"].apply((lambda x:str(x).replace(\"+\",\"\") if \"+\" in str(x) else str(x)))\n",
        "df_subset[\"Installs\"]=df_subset[\"Installs\"].apply((lambda x:str(x).replace(\",\",\"\") if \",\" in str(x) else str(x)))\n",
        "df_subset[\"Installs\"]=df_subset[\"Installs\"].apply((lambda x:float(x)))\n"
      ],
      "metadata": {
        "id": "6z2A5nXjsmT9"
      },
      "execution_count": null,
      "outputs": []
    },
    {
      "cell_type": "code",
      "source": [
        "df_subset[\"Size\"].unique()"
      ],
      "metadata": {
        "id": "x2ZOXGO4Rzur"
      },
      "execution_count": null,
      "outputs": []
    },
    {
      "cell_type": "code",
      "source": [
        "#We have to convert the Size (object)---to Size(float)\n",
        "#Observations observed in  size  is 3 types of data observed in size---1st is \"M\" 2nd is \"k\" and 3rd is \"Varies with device\"\n",
        "df_subset.loc[df_subset[\"Size\"]== 'Varies with device']\n"
      ],
      "metadata": {
        "id": "1UA4IPMDRYy7"
      },
      "execution_count": null,
      "outputs": []
    },
    {
      "cell_type": "code",
      "source": [
        "len(df_subset.loc[df_subset[\"Size\"]== 'Varies with device'])\n"
      ],
      "metadata": {
        "id": "63cniHVvRYwI"
      },
      "execution_count": null,
      "outputs": []
    },
    {
      "cell_type": "code",
      "source": [
        "df_subset[\"Size\"].loc[df_subset[\"Size\"].str.contains(\"M\")].value_counts().sum()\n"
      ],
      "metadata": {
        "id": "cYSffIj2RYs_"
      },
      "execution_count": null,
      "outputs": []
    },
    {
      "cell_type": "code",
      "source": [
        "df_subset[\"Size\"].loc[df_subset[\"Size\"].str.contains(\"k\")].value_counts().sum()\n"
      ],
      "metadata": {
        "id": "dOdrMRIGRYp8"
      },
      "execution_count": null,
      "outputs": []
    },
    {
      "cell_type": "code",
      "source": [
        "400+74992+47230# hence no missing values we have good to go"
      ],
      "metadata": {
        "id": "upMLti9FVBMS"
      },
      "execution_count": null,
      "outputs": []
    },
    {
      "cell_type": "code",
      "source": [
        "#We have to convert the Size (object)---to Size(float)\n",
        "\n",
        "#Observations observed in  size  is 3 types of data observed in size---1st is \"M\" 2nd is \"k\" and 3rd is \"Varies with device\"\n",
        "\n",
        "def convert_size_to_numeric(size_column):\n",
        "    import numpy as np\n",
        "    size_column = size_column.replace('Varies with device', np.nan)\n",
        "    size_column = size_column.str.replace('M', 'e+3', regex=False)\n",
        "    size_column = size_column.str.replace('k', '', regex=False)\n",
        "    return pd.to_numeric(size_column, errors='coerce')"
      ],
      "metadata": {
        "id": "Idnx3LEjVBJU"
      },
      "execution_count": null,
      "outputs": []
    },
    {
      "cell_type": "code",
      "source": [
        "df_subset['Size'] = convert_size_to_numeric(df_subset['Size'])"
      ],
      "metadata": {
        "id": "_npRP45bcZ5V"
      },
      "execution_count": null,
      "outputs": []
    },
    {
      "cell_type": "code",
      "source": [
        "df_subset.info()"
      ],
      "metadata": {
        "id": "zmHjv_GDVBF0"
      },
      "execution_count": null,
      "outputs": []
    },
    {
      "cell_type": "code",
      "source": [
        "''' hence filling median() values in place of null values which we created by replacing with varies with device\n",
        " We use Median() beacuse apart from mode or mean median--is best suited to this condition beacuse our values are ranging from 98M to 79k hence\n",
        " our data has a wide range we use meadian hear'''\n",
        "\n",
        "df_subset['Size'].fillna(df_subset['Size'].median(), inplace=True)"
      ],
      "metadata": {
        "id": "zKpC2tGqVpfF"
      },
      "execution_count": null,
      "outputs": []
    },
    {
      "cell_type": "code",
      "source": [
        "df_subset.info() # hence size converted to float from object datatype"
      ],
      "metadata": {
        "id": "X4MxqF41Vpb8"
      },
      "execution_count": null,
      "outputs": []
    },
    {
      "cell_type": "code",
      "source": [
        "# Create a new column 'Size_in_bytes' by converting 'Size' (in kilobytes) to bytes\n",
        "#to convert kilobytes ---to---bytes multiply 1024\n",
        "df_subset['Size_in_bytes'] = df_subset['Size'] * 1024"
      ],
      "metadata": {
        "id": "5O6w6gsR9GvA"
      },
      "execution_count": null,
      "outputs": []
    },
    {
      "cell_type": "code",
      "source": [
        "# Convert the column from kilobytes to megabytes\n",
        "df_subset['Size_MB'] = df_subset['Size'] / 1024  # Divide by 1024 to convert kB to MB"
      ],
      "metadata": {
        "id": "M-mtnULfPD6V"
      },
      "execution_count": null,
      "outputs": []
    },
    {
      "cell_type": "code",
      "source": [
        "df_subset.head()"
      ],
      "metadata": {
        "id": "g3FqkYHqVpYt"
      },
      "execution_count": null,
      "outputs": []
    },
    {
      "cell_type": "code",
      "source": [
        "df_subset.describe()"
      ],
      "metadata": {
        "id": "OgZGk509guqH"
      },
      "execution_count": null,
      "outputs": []
    },
    {
      "cell_type": "code",
      "source": [
        "df_subset.info()"
      ],
      "metadata": {
        "id": "uTMr67TdjQQ-"
      },
      "execution_count": null,
      "outputs": []
    },
    {
      "cell_type": "markdown",
      "source": [
        "### What all manipulations have you done and insights you found?"
      ],
      "metadata": {
        "id": "MSa1f5Uengrz"
      }
    },
    {
      "cell_type": "markdown",
      "source": [
        "After observing playstore data carefully there are duplicates in that means  App names are repeating we cant drop them beacuse the each row has some information according to the user reviews so kept has it is. and there were lot of missing rows or null data in columns like Translated_Review,sentiment ,sentiment_polarity,Sentiment_Subjectivity\n",
        "the nullvaues % was 40% hence it is critical for us so we treated it,and dropped the rows which has very minimal nullvalues % like we dropped rating column rows which was having nullvalues, moreover size,price ,installs,reviews all these columns was in object datatype hence they should be in numeric form hence converted to numeric datatypes(int or float),these are some manipulations done on playstore data."
      ],
      "metadata": {
        "id": "LbyXE7I1olp8"
      }
    },
    {
      "cell_type": "markdown",
      "source": [
        "## ***4. Data Vizualization, Storytelling & Experimenting with charts : Understand the relationships between variables***"
      ],
      "metadata": {
        "id": "GF8Ens_Soomf"
      }
    },
    {
      "cell_type": "markdown",
      "source": [
        "#### Exploratory Data Analysis\n",
        "\n",
        "Category 1 : Frequency Distribution Analysis\n",
        "\n",
        "1. Distribution of App Ratings\n",
        "\n",
        "2. Distribution of App Installs\n",
        "\n",
        "3. Distribution of App Price\n",
        "\n",
        "4. Distribution of App Size\n",
        "\n"
      ],
      "metadata": {
        "id": "3ieuPcxLg2E8"
      }
    },
    {
      "cell_type": "markdown",
      "source": [
        "Rating Distrubution frequency"
      ],
      "metadata": {
        "id": "vxLW8eZu61sA"
      }
    },
    {
      "cell_type": "code",
      "source": [
        "#Ploting the Histogram and boxplots against Rating\n",
        "\n",
        "import seaborn as sns\n",
        "import matplotlib.pyplot as plt\n",
        "\n",
        "sns.histplot(df_subset['Rating'], kde=True, bins=20, color='blue')\n",
        "plt.title('Histogram Distribution of App Ratings')\n",
        "plt.xlabel('Rating')\n",
        "plt.ylabel('Count')\n",
        "plt.show()"
      ],
      "metadata": {
        "id": "kxbpinfRx0km"
      },
      "execution_count": null,
      "outputs": []
    },
    {
      "cell_type": "code",
      "source": [
        "sns.boxplot(x=df_subset['Rating'], color='lightblue')\n",
        "plt.title('Boxplot of App Ratings')\n",
        "plt.xlabel('Rating')\n",
        "plt.show()"
      ],
      "metadata": {
        "id": "JZCp4VIVx0gs"
      },
      "execution_count": null,
      "outputs": []
    },
    {
      "cell_type": "markdown",
      "source": [
        "Take Aways -\n",
        "\n",
        "Histogram-Observations---\n",
        "\n",
        "1.The observations after analysing the Histogram we can tell larger proportion of apps has a higher ratings compared to lower ratings.\n",
        "\n",
        "2.Peak between 4.2 to 4.5 rating\n",
        "\n",
        "Boxplot-Observations---\n",
        "\n",
        "3.Multiple outliers are present at low ratings region\n",
        "\n",
        "4.Median range is between 4.25 to 4.35 has observed from a plot above.\n",
        "\n",
        "\n"
      ],
      "metadata": {
        "id": "7LuCOfAe1ruv"
      }
    },
    {
      "cell_type": "markdown",
      "source": [
        "Installs Distrubution frequency"
      ],
      "metadata": {
        "id": "D40buSaG68DY"
      }
    },
    {
      "cell_type": "code",
      "source": [
        "#Ploting the Histogram and boxplots against Installs\n",
        "\n",
        "sns.histplot(df_subset['Installs'], kde=False, bins=30, color='green',log_scale=True)\n",
        "plt.title('Distribution of App Installs (Log Scale)')\n",
        "plt.xlabel('Installs (Log Scale)')\n",
        "plt.ylabel('Count')\n",
        "plt.show()"
      ],
      "metadata": {
        "id": "6OXUXW1lwyaM"
      },
      "execution_count": null,
      "outputs": []
    },
    {
      "cell_type": "code",
      "source": [
        "sns.boxplot(x=df_subset['Installs'], color='green')\n",
        "plt.title('Boxplot of App Installs')\n",
        "plt.xlabel('Installs')\n",
        "plt.show()"
      ],
      "metadata": {
        "id": "674f0NVjwyW3"
      },
      "execution_count": null,
      "outputs": []
    },
    {
      "cell_type": "code",
      "source": [
        "#We didnt got the correct boxplot above hence ploted boxplot without outliers----\n",
        "\n",
        "Q1 = df_subset['Installs'].quantile(0.25)\n",
        "Q3 = df_subset['Installs'].quantile(0.75)\n",
        "IQR = Q3 - Q1\n",
        "lower_bound = Q1 - 1.5 * IQR\n",
        "upper_bound = Q3 + 1.5 * IQR\n",
        "filtered_data = df_subset[(df_subset['Installs'] >= lower_bound) & (df_subset['Installs'] <= upper_bound)]\n",
        "\n",
        "sns.boxplot(x=filtered_data['Installs'], color='green')\n",
        "plt.title('Boxplot of App Installs (Without Outliers)')\n",
        "plt.xlabel('Installs')\n",
        "plt.show()"
      ],
      "metadata": {
        "id": "uzAcM74CwyPf"
      },
      "execution_count": null,
      "outputs": []
    },
    {
      "cell_type": "markdown",
      "source": [
        "Take Aways -\n",
        "\n",
        "Histogram-Observations---\n",
        "\n",
        "1.Observed insight  is  majority of apps have relatively small number of installs but small number of apps have an high large number of installs.\n",
        "\n",
        "\n",
        "\n",
        "Boxplot-Observations---\n",
        "\n",
        "2.from 1st boxplot observed that distribution of App intalls is higly skewed and few outliers\n",
        "\n",
        "3.From 2nd Boxplot without outliers observed that more accurate view and clear view of central tendency and median moreover the most of  the Apps have moderate number of installs.\n",
        "\n",
        "\n",
        "\n",
        "\n"
      ],
      "metadata": {
        "id": "Ahwn1cWHFEbk"
      }
    },
    {
      "cell_type": "markdown",
      "source": [
        "Price Distrubution frequency"
      ],
      "metadata": {
        "id": "QDKqqtwwLZcC"
      }
    },
    {
      "cell_type": "code",
      "source": [
        "#Ploting the Histogram and boxplots against Price---Paid Apps Only\n",
        "#Y we took paid apps only?--- beacuse free apps dominate over paid apps makes histogram meaningless for analyzing hence only took the paid apps into considersation.\n",
        "\n",
        "sns.histplot(df_subset[df_subset['Price'] > 0]['Price'], kde=True, bins=20, color='orange')\n",
        "plt.title('Distribution of App Prices (Paid Apps)')\n",
        "plt.xlabel('Price in $')\n",
        "plt.ylabel('Count')\n",
        "plt.show()"
      ],
      "metadata": {
        "id": "kUyah4TkFEGB"
      },
      "execution_count": null,
      "outputs": []
    },
    {
      "cell_type": "code",
      "source": [
        "sns.boxplot(x=df_subset[df_subset['Price'] > 0]['Price'], color='orange')\n",
        "plt.title('Boxplot of App Prices (Paid Apps)')\n",
        "plt.xlabel('Price in $')\n",
        "plt.show()"
      ],
      "metadata": {
        "id": "12auXdMdFECm"
      },
      "execution_count": null,
      "outputs": []
    },
    {
      "cell_type": "markdown",
      "source": [
        "Take Aways -\n",
        "\n",
        "Histogram-Observations---\n",
        "\n",
        "1.Majority of paid apps price range  between 0 dollar and 10dollar and we can see peak around 0dollar-5dollar range.\n",
        "\n",
        "\n",
        "\n",
        "Boxplot-Observations---\n",
        "\n",
        "2.The median price appears around 10dollar means majority of paid apps are priced at or below 10dollar.\n",
        "\n",
        "3.We can observe two outliers indicated by circles above the box these apps price is very high than the majority of the apps.\n",
        "\n",
        "\n",
        "\n",
        "\n"
      ],
      "metadata": {
        "id": "rQJZXDGKmd-S"
      }
    },
    {
      "cell_type": "markdown",
      "source": [
        "Size Distribution Frequency"
      ],
      "metadata": {
        "id": "FR1frbpZxKKR"
      }
    },
    {
      "cell_type": "code",
      "source": [
        "##Ploting the Histogram and boxplots against Size\n",
        "\n",
        "\n",
        "sns.histplot(df_subset['Size'], kde=True, bins=20, color='purple')\n",
        "plt.title('Distribution of App Sizes')\n",
        "plt.xlabel('Size in (in kilobytes)')\n",
        "plt.ylabel('Count')\n",
        "plt.show()"
      ],
      "metadata": {
        "id": "EVzwe62StMYr"
      },
      "execution_count": null,
      "outputs": []
    },
    {
      "cell_type": "code",
      "source": [
        "sns.boxplot(x=df_subset['Size'], color='purple')\n",
        "plt.title('Boxplot of App Sizes')\n",
        "plt.xlabel('Size')\n",
        "plt.show()"
      ],
      "metadata": {
        "id": "vW7WRlfPtMUm"
      },
      "execution_count": null,
      "outputs": []
    },
    {
      "cell_type": "markdown",
      "source": [
        "Take Aways -\n",
        "\n",
        "Histogram-Observations---\n",
        "\n",
        "1.There is a sharp peak around 20,000 kilobytes range,we can understand from this that this is the most common size for apps.\n",
        "\n",
        "2.The distribution tapers or lowers after the sharp-peak with fewer and fewer apps has size increases.\n",
        "\n",
        "\n",
        "\n",
        "Boxplot-Observations---\n",
        "\n",
        "3.There are several or lot of outliers has size increases\n",
        "\n",
        "4.Boxplot shows that majority of apps fall within a relatively narrow size-range between 10,000-30,000 kilobytes.\n",
        "\n",
        "\n",
        "\n",
        "\n"
      ],
      "metadata": {
        "id": "nDTMHzvvx33q"
      }
    },
    {
      "cell_type": "markdown",
      "source": [
        " Why did you pick the specific chart(Histogram-(rating,price,install,size))?\n",
        "\n",
        "Overall Histograms plots (rating,price,install,size) provides a visual representaion of frequency distribution of a continuous variable,they show how often values fall within specific intervals or bins.\n",
        "\n"
      ],
      "metadata": {
        "id": "zYHNhy0P3nUl"
      }
    },
    {
      "cell_type": "markdown",
      "source": [
        " Why did you pick the specific chart(Boxplot for rating,instal.price,size)?\n",
        "\n",
        "Boxplots are excellent for sumamarizing the distribution of data they display median ,quartiles (25th and 75th percentiles) and potential outliers hence it is important for us to plot this boxplots against each categories like(Rating,Price,Installs,Size).\n",
        "\n"
      ],
      "metadata": {
        "id": "BIqnCelE5JH3"
      }
    },
    {
      "cell_type": "markdown",
      "source": [
        " Will the gained insights help creating a positive business impact?\n",
        "Are there any insights that lead to negative growth? Justify with specific reason.(Histogram AND Boxplot)\n",
        "\n",
        "Yes gained insights helps in creating positve business impact beacuse we can see the distribution(Histogram) of each term  like--size,price,installs.ratings hence we can get lot of insights from this and from boxplots we can detect the outliers and futherwe can study the outliers and improve this hence it will give us idea what is wrong so that we can improve our business and growth."
      ],
      "metadata": {
        "id": "OFHKIAJL3IkM"
      }
    },
    {
      "cell_type": "markdown",
      "source": [
        "\n",
        "Category 2 : Category-Level Analysis\n",
        "\n",
        "1. Free vs Paid Apps (countplot and barplot)\n",
        "\n",
        "2. Popularity Across Categories\n",
        "\n",
        "3. Content Rating vs. Count(countplot and boxplot)\n",
        "\n",
        "\n",
        "\n",
        "\n"
      ],
      "metadata": {
        "id": "L0XpcIup8x7r"
      }
    },
    {
      "cell_type": "markdown",
      "source": [
        "1. Free vs Paid Apps (countplot and barplot)\n"
      ],
      "metadata": {
        "id": "BF8bCHJmIvAk"
      }
    },
    {
      "cell_type": "markdown",
      "source": [
        "a.  Count plot(Free vs Paid Apps)"
      ],
      "metadata": {
        "id": "Hhhzx1MQKCYn"
      }
    },
    {
      "cell_type": "code",
      "source": [
        "#Type_column ---has 2 types free and paid subscriptions lets see with countplot how it is distributed---\n",
        "\n",
        "sns.countplot(data=df_subset, x='Type', palette='Set2')\n",
        "\n",
        "# Adding titles and labels\n",
        "plt.title('Countplot of Free vs Paid', fontsize=16)\n",
        "plt.xlabel('Subscription Type', fontsize=12)\n",
        "plt.ylabel('Count', fontsize=12)\n",
        "\n",
        "# Display the plot\n",
        "plt.show()"
      ],
      "metadata": {
        "id": "5ChW22eub3TX"
      },
      "execution_count": null,
      "outputs": []
    },
    {
      "cell_type": "markdown",
      "source": [
        "Take Aways -Count Plot----\n",
        "1. We can se clearly observe that free type apps are been used widely by many users it is dominating over paid type apps.\n",
        "2. There is a huge gap in usage  between the two subscription types\n",
        "\n",
        "\n"
      ],
      "metadata": {
        "id": "wkjCXgfxd7C8"
      }
    },
    {
      "cell_type": "markdown",
      "source": [
        "b.Bar Plot of Category vs Type"
      ],
      "metadata": {
        "id": "ox7tbmbCJrf3"
      }
    },
    {
      "cell_type": "code",
      "source": [
        "\n",
        "\n",
        "plt.figure(figsize=(12, 6))\n",
        "\n",
        "# Group by 'Category' and then count the occurrences of each 'Type' within each group:\n",
        "category_type_counts = df_subset.groupby('Category')['Type'].value_counts().reset_index(name='Count')\n",
        "\n",
        "sns.barplot(data=category_type_counts, y='Category', x='Count', hue='Type', palette='Set2')\n",
        "plt.title('Free vs. Paid Apps Across Categories', fontsize=14)\n",
        "plt.xlabel('Count', fontsize=12)\n",
        "plt.ylabel('Category', fontsize=12)\n",
        "plt.xticks(rotation=90)\n",
        "plt.legend(title='Type', loc='upper right')\n",
        "plt.show()"
      ],
      "metadata": {
        "id": "RJauNgnYb3LG"
      },
      "execution_count": null,
      "outputs": []
    },
    {
      "cell_type": "markdown",
      "source": [
        "Take Aways -Bar-plot----\n",
        "1. There are more free apps and paid apps are very few in most categories.\n",
        "2. Some categories have a slightly more  paid apps proportion compared to others.some categories like Medical,Game but even the count is much lower than free apps.\n",
        "3. In every categories count of free apps is dominating the paid apps if it is present.\n",
        "4.Categories like Game, Family ,Sports are having very high good number of freeapps across these categories\n",
        "5.Some categories like Weather,Events ,Comics has very fewer apps hence there count is very less for both free and paid apps.\n",
        "\n",
        "\n"
      ],
      "metadata": {
        "id": "aQAsYo9frYkO"
      }
    },
    {
      "cell_type": "markdown",
      "source": [
        "2.Popularity Across Categories"
      ],
      "metadata": {
        "id": "dAtQep8y07tY"
      }
    },
    {
      "cell_type": "markdown",
      "source": [
        "a. Bar Plot of Category vs. Count\n"
      ],
      "metadata": {
        "id": "SNmv0ZellEIP"
      }
    },
    {
      "cell_type": "code",
      "source": [
        "plt.figure(figsize=(12, 6))\n",
        "sns.countplot(data=df_subset, y='Category', order=df_subset['Category'].value_counts().index)\n",
        "plt.title('Number of Apps in Each Category', fontsize=14)\n",
        "plt.xlabel('Count', fontsize=12)\n",
        "plt.ylabel('Category', fontsize=12)\n",
        "plt.show()"
      ],
      "metadata": {
        "id": "6UL4fRQtj37-"
      },
      "execution_count": null,
      "outputs": []
    },
    {
      "cell_type": "markdown",
      "source": [
        "Take Aways -Bar Plot of Category vs. Count---\n",
        "\n",
        " Game,Family Categories have highest number of apps across all other categories and these two apps has the large market share,  some apps like Education,Productivity these are medium-Sized Categories and Comics ,Weather ,Events are small categories having samll number of apps.\n",
        "\n",
        "\n"
      ],
      "metadata": {
        "id": "ASTYnOyTw6_c"
      }
    },
    {
      "cell_type": "markdown",
      "source": [
        "b.  Bar Plot: Average Rating vs. Category\n",
        "\n"
      ],
      "metadata": {
        "id": "KQNvDJixlu9A"
      }
    },
    {
      "cell_type": "code",
      "source": [
        "# Bar Plot: Average Rating vs. Category\n",
        "avg_rating = df_subset.groupby('Category')['Rating'].mean().reset_index()\n",
        "avg_rating = avg_rating.sort_values(by=['Rating'], ascending=False)  # Sort by rating in descending order\n",
        "\n",
        "# Bar plot\n",
        "plt.figure(figsize=(12, 6))\n",
        "sns.barplot(data=avg_rating, x='Rating', y='Category', palette='viridis')\n",
        "plt.title('Average Rating by Category (Ordered)', fontsize=16)\n",
        "plt.xlabel('Average Rating', fontsize=12)\n",
        "plt.ylabel('Category', fontsize=12)\n",
        "plt.show()\n"
      ],
      "metadata": {
        "id": "V_1NGevEpuuB"
      },
      "execution_count": null,
      "outputs": []
    },
    {
      "cell_type": "markdown",
      "source": [
        "Take Aways -Bar Plot: Average Rating vs. Category---\n",
        "\n",
        " Auto & Vechicals and Game apps are having high-user-ratings out of all others categories,moreover Shopping,Tools,Weather are having Mid-range ratings, and Comics,Dating,Entertainment are having lower-Rated Categories\n",
        "\n",
        "\n"
      ],
      "metadata": {
        "id": "lSFyYQf4zO62"
      }
    },
    {
      "cell_type": "markdown",
      "source": [
        "c.Bar Plot: Total Installs vs. Category\n",
        "\n",
        "\n",
        "\n"
      ],
      "metadata": {
        "id": "giC-aFddmNXf"
      }
    },
    {
      "cell_type": "code",
      "source": [
        "# Grouping by Category and calculate the total installs\n",
        "total_installs = df_subset.groupby('Category')['Installs'].sum().reset_index()\n",
        "\n",
        "# Sorting the DataFrame by total installs in descending order\n",
        "total_installs = total_installs.sort_values(by=['Installs'], ascending=False)\n",
        "\n",
        "# Bar plot\n",
        "plt.figure(figsize=(12, 6))\n",
        "sns.barplot(data=total_installs, x='Installs', y='Category', palette='viridis')\n",
        "plt.title('Total Installs by Category (Descending Order)', fontsize=16)\n",
        "plt.xlabel('Total Installs', fontsize=12)\n",
        "plt.ylabel('Category', fontsize=12)\n",
        "plt.xscale('log')  # Use log scale for better clarity\n",
        "plt.show()"
      ],
      "metadata": {
        "id": "cB6y-cN9j3hA"
      },
      "execution_count": null,
      "outputs": []
    },
    {
      "cell_type": "markdown",
      "source": [
        "Take Aways -Bar Plot: Total Installs vs. Category\n",
        "\n",
        "\n",
        "Categories like Game,Communication has high total Installs across all other categories these are the most popular apps categories in terms of downloads,moreover categories like Social ,Family,Tools,Travel and Local are medium-Sized Categories which have significant number of installs and  Categories like Comics, Events,Parenting have Low number of installs indiacting that these apps have smaller number of audience."
      ],
      "metadata": {
        "id": "gatu4AH-2Ozj"
      }
    },
    {
      "cell_type": "markdown",
      "source": [
        "3. Content Rating vs. Count(Barplot and boxplot)\n"
      ],
      "metadata": {
        "id": "VXRwO-Xc85w7"
      }
    },
    {
      "cell_type": "markdown",
      "source": [
        "a.Bar Plot of Content Rating vs. Count"
      ],
      "metadata": {
        "id": "Ax7HQvme9F5g"
      }
    },
    {
      "cell_type": "code",
      "source": [
        "# Bar plot for number of apps by content rating\n",
        "plt.figure(figsize=(8, 5))\n",
        "content_rating_counts = df_subset['Content Rating'].value_counts()  # Group by Content Rating and count\n",
        "sns.barplot(x=content_rating_counts.values, y=content_rating_counts.index, palette=\"coolwarm\")\n",
        "plt.title('Number of Apps by Content Rating', fontsize=16)\n",
        "plt.xlabel('Number of Apps', fontsize=12)\n",
        "plt.ylabel('Content Rating', fontsize=12)\n",
        "plt.show()"
      ],
      "metadata": {
        "id": "_RldlPR80_4F"
      },
      "execution_count": null,
      "outputs": []
    },
    {
      "cell_type": "markdown",
      "source": [
        "Take Aways -Bar Plot of Content Rating vs. Count\n",
        "\n",
        "1.Everyone content has the highest number of apps followed by teen,hence there is a high demand for apps that are suitable for all ages.\n",
        "\n",
        "2.Adults only 18+ has the lowest number of apps,we can say the number of apps decreses as the content rating becomes more mature.\n",
        "\n",
        "3.The number of apps for Everyone 10+ and Mature 17+ is relatively similar.\n",
        "\n",
        "\n"
      ],
      "metadata": {
        "id": "CvpZRJ56Qk0x"
      }
    },
    {
      "cell_type": "markdown",
      "source": [
        "b.Box plot for rating vs content rating\n"
      ],
      "metadata": {
        "id": "ihRTwrVNOOYa"
      }
    },
    {
      "cell_type": "code",
      "source": [
        "# Box plot for rating vs content rating\n",
        "plt.figure(figsize=(10, 6))\n",
        "sns.boxplot(data=df_subset, x='Rating', y='Content Rating', showfliers=False, palette=\"Set3\")\n",
        "plt.title('Ratings Distribution by Content Rating', fontsize=16)\n",
        "plt.xlabel('Rating', fontsize=12)\n",
        "plt.ylabel('Content Rating', fontsize=12)\n",
        "plt.show()"
      ],
      "metadata": {
        "id": "H9ks4KHJ0_0i"
      },
      "execution_count": null,
      "outputs": []
    },
    {
      "cell_type": "markdown",
      "source": [
        "Take Aways - Box plot for rating vs content rating\n",
        "\n",
        "\n",
        "1.\"Everyone\" content has a highest and consistent ratings as indicated by the highest median.\n",
        "\n",
        "2.\"Mature 17+\" Content has a lower median rating,having lower ratings\n",
        "\n",
        "3.\"Teen\" and \"Everyone 10+\" content fall between  these two extremes suggesting a moderate level of variability and range of opnions.\n",
        "\n",
        "\n"
      ],
      "metadata": {
        "id": "Y2P5-t8QUNBh"
      }
    },
    {
      "cell_type": "markdown",
      "source": [
        " Why did you pick the specific chart(Countplot)?\n",
        "\n",
        "We Choosed the count plot because it directly represent the count of each categories and provides the clear visual reprsentation of number of free and paid apps."
      ],
      "metadata": {
        "id": "SIPfMYli849s"
      }
    },
    {
      "cell_type": "markdown",
      "source": [
        " Why did you pick the specific chart(Bar-Plot)(For all Bar-plots)?\n",
        "\n",
        " We choose the bar plots beacuse they are perfect to visualize the data of categories combined with summarization (sum,count,mean,median) we can perform, hence Bar-plots are suitable for categorical columns has we ploted for all bar-plots and performed summarization to see the plot and to get the accurate insights from it.\n",
        "\n",
        "\n"
      ],
      "metadata": {
        "id": "IrOhJxQh84tI"
      }
    },
    {
      "cell_type": "markdown",
      "source": [
        " Will the gained insights help creating a positive business impact?\n",
        "Are there any insights that lead to negative growth? Justify with specific reason.(CountPlot and Bar-Plot)\n",
        "\n",
        "Yes the gained insights help creating positive business in case of count-plot we can get the count of subcribers for paid apps vs free apps we can get information about which is dominating from this we can take various operations and decisions,and from Barplot we can do the (groupby and summarization)total and average , and  more operations for categories and  plot the bar-plot we get which category has a higher ,lower and manymore insights from this hence we can concentrate which is lower and  what? how?we should take actions to improve the lower categories and more hence like this it helps in creating positive business impact  to grow the business .\n",
        "\n"
      ],
      "metadata": {
        "id": "t0K7NlVm9p-u"
      }
    },
    {
      "cell_type": "markdown",
      "source": [
        "\n",
        "Category 3 : Relationships Between Features\n",
        "\n",
        "1. Rating vs Installs\n",
        "\n",
        "2. Rating vs Price\n",
        "\n",
        "3. Size vs Installs\n",
        "\n",
        "\n",
        "\n",
        "\n",
        "\n"
      ],
      "metadata": {
        "id": "Y5KPtIPGWMIL"
      }
    },
    {
      "cell_type": "markdown",
      "source": [
        "1.Rating vs Installs"
      ],
      "metadata": {
        "id": "nJBoLAbyYLia"
      }
    },
    {
      "cell_type": "code",
      "source": [
        "# Scatter plot\n",
        "plt.figure(figsize=(10, 6))\n",
        "sns.scatterplot(data=df_subset, x='Rating', y='Installs', alpha=0.6, color='blue')\n",
        "plt.title('Rating vs. Installs', fontsize=16)\n",
        "plt.xlabel('Rating', fontsize=12)\n",
        "plt.ylabel('Number of Installs', fontsize=12)\n",
        "plt.yscale('log')  # Log scale to handle skewed install data\n",
        "plt.show()"
      ],
      "metadata": {
        "id": "qo3x_w4wSnRD"
      },
      "execution_count": null,
      "outputs": []
    },
    {
      "cell_type": "markdown",
      "source": [
        "Take Aways - Rating vs Installs\n",
        "\n",
        "\n",
        "1.Apps with high installs tend to be more concentrated in the higher rating range(4-4.5) that is between 4-4.5 users prefer and rate apps positively within this range, these apps have both medium(10^6 installs) and large installs(10^8 or more).\n",
        "\n",
        "2.Apps with low ratings(<3.5) have fewer installs (below 10^6) ,hence poorly rated apps struggle to gain significant popularity.\n",
        "\n",
        "3.There are few apps with 10^9 installs still maintain ratings of (4-4.5),these apps are high-quality apps like game,socialmedia.\n",
        "\n",
        "4.Apps with high ratings(4.5+) but low installs targets specific audiences\n",
        "\n",
        "\n"
      ],
      "metadata": {
        "id": "JIewYp556P_y"
      }
    },
    {
      "cell_type": "markdown",
      "source": [
        "2.Rating vs Price(Paid Apps)"
      ],
      "metadata": {
        "id": "Y26IocXt9_TO"
      }
    },
    {
      "cell_type": "code",
      "source": [
        "## Filter df_subset to include only paid apps\n",
        "paid_apps = df_subset[df_subset['Type'] == 'Paid']\n",
        "\n",
        "# Scatter plot\n",
        "plt.figure(figsize=(10, 6))\n",
        "sns.scatterplot(data=paid_apps, x='Price', y='Rating', alpha=0.6, color='green')\n",
        "plt.title('Rating vs. Price for Paid Apps', fontsize=16)\n",
        "plt.xlabel('Price', fontsize=12)\n",
        "plt.ylabel('Rating', fontsize=12)\n",
        "plt.xscale('log')  # Log scale for better visualization of price variations\n",
        "plt.show()"
      ],
      "metadata": {
        "id": "8YVf0jnoSnMq"
      },
      "execution_count": null,
      "outputs": []
    },
    {
      "cell_type": "markdown",
      "source": [
        "Take Aways - Rating vs Price(Paid Apps)\n",
        "\n",
        "\n",
        "1.Ratings appear to remain consistent (mostly around 4-4.5) regardless of the price,no strong correaltion hence higher-priced apps dont necessarily receive higher ratings so pricing strategies should focus on value and quality.\n",
        "\n",
        "2.Apps priced moderately has high ratings hence even affordable with good quality\n",
        "\n",
        "3.There are some expensive-low-rated apps hence few apps with high prices (beyond 10 units) tend to have ratings below 4.0 ,developers of higher-priced apps with lower ratings shhould focus on user feedback to improve its overall app quality . and justify their price\n",
        "\n",
        "\n",
        "\n"
      ],
      "metadata": {
        "id": "4ganHEzjCGT3"
      }
    },
    {
      "cell_type": "markdown",
      "source": [
        "3.Size Vs Installs"
      ],
      "metadata": {
        "id": "ZpgdQDukRgDB"
      }
    },
    {
      "cell_type": "code",
      "source": [
        "# Scatter plot\n",
        "#Size_MB created as new-column beacuse for better clarity in this case\n",
        "plt.figure(figsize=(10, 6))\n",
        "sns.scatterplot(data=df_subset, x='Size_MB', y='Installs', alpha=0.6, color='red') # Changed df to df_subset\n",
        "plt.title('Size(MB) vs. Installs', fontsize=16)\n",
        "plt.xlabel('Size (MB)', fontsize=12)\n",
        "plt.ylabel('Number of Installs', fontsize=12)\n",
        "plt.yscale('log')  # Log scale to handle skewed install data\n",
        "plt.show()"
      ],
      "metadata": {
        "id": "Y4mm_kUySnIP"
      },
      "execution_count": null,
      "outputs": []
    },
    {
      "cell_type": "markdown",
      "source": [
        "Take Aways -Size Vs Installs\n",
        "\n",
        "\n",
        "1.Most apps falls within specific install brackets such as 10^5,10^6,10^7 and 10^8,and there is no strong correlation between app size and number of installs apps of varying sizes (from small to large) achieve similar number of installs.\n",
        "\n",
        "2.Apps with smaller sizes (below 20MB) have broad-range of installs from 10^3 to 10^9 this tells that size is not limiting factor for popularity,moreover larger apps (60MB and above) have higher install counts in range of(10^6 to 10^8) but there are fewer such apps compared to smaller ones in sizes.\n",
        "\n",
        "3.Users are not necessarily discouraged by large app sizes even they have high installs counts for large size apps but smaller size apps dominate in number but their installs vary widely.\n",
        "\n",
        "4.Hence   from this observation I can suggest the developers that they should focus on optimizing app size without sacrificing functionality as size alone does not guarantee higher installs.\n",
        "\n",
        "\n"
      ],
      "metadata": {
        "id": "ik98r6qURqua"
      }
    },
    {
      "cell_type": "markdown",
      "source": [
        " Why did you pick the specific chart(Scatter Plots for all)?\n",
        "\n",
        "I choosed the scatter plots for above variables  because  we can identify potential correlations between 2 continues variables,if the plots on the plot tend to form a clear upward or downward trend,it suggests a strong relationship between the two variables, and even scatter plots help to identify the outliers."
      ],
      "metadata": {
        "id": "W8qfePo_UQ7H"
      }
    },
    {
      "cell_type": "markdown",
      "source": [
        " Will the gained insights help creating a positive business impact?\n",
        "Are there any insights that lead to negative growth? Justify with specific reason.(Scatter-Plots)\n",
        "\n",
        "Yes the gained insights help in creating positive business impact because by ploting the scatter plots we can understand the acutal relationship between two continuous variables and we can get important insights wheather both variables are increasing simulataneously or one variable is increasing and other is decreasing hence we get important insights by studying plot that can be implement in our business so that our business can grow by detecting the actual root cause from this scatter plot hence by increasing the growth ."
      ],
      "metadata": {
        "id": "mIQQJvLUZjqs"
      }
    },
    {
      "cell_type": "markdown",
      "source": [
        "\n",
        "Category 4 : Sentiment Analysis\n",
        "\n",
        "1.  Overall Sentiment Trends\n",
        "\n",
        "2. Sentiment vs. App Features\n",
        "\n",
        "\n",
        "\n",
        "\n",
        "\n",
        "\n",
        "\n",
        "\n",
        "\n",
        "\n",
        "\n"
      ],
      "metadata": {
        "id": "B0o0-1pbWvME"
      }
    },
    {
      "cell_type": "markdown",
      "source": [
        "1.  Overall Sentiment Trends\n"
      ],
      "metadata": {
        "id": "2kmK0aROYClW"
      }
    },
    {
      "cell_type": "markdown",
      "source": [
        "a.Count Plot of Sentiment:"
      ],
      "metadata": {
        "id": "6s_lZqZYd7A4"
      }
    },
    {
      "cell_type": "code",
      "source": [
        "# a. Count Plot of Sentiment: To compare the number of Positive, Neutral, and Negative reviews\n",
        "# Count plot to visualize the number of Positive, Neutral, and Negative reviews\n",
        "plt.figure(figsize=(8, 6))  # Set the figure size\n",
        "sns.countplot(data=df_subset, x='Sentiment', palette='viridis')  # Create the count plot\n",
        "plt.title('Count Plot of Sentiment', fontsize=16)  # Title of the plot\n",
        "plt.xlabel('Sentiment', fontsize=14)  # Label for the x-axis\n",
        "plt.ylabel('Count', fontsize=14)  # Label for the y-axis\n",
        "plt.show()  # Display the plot\n"
      ],
      "metadata": {
        "id": "s2rQttT70_s1"
      },
      "execution_count": null,
      "outputs": []
    },
    {
      "cell_type": "markdown",
      "source": [
        "Take Aways - #Count Plot of Sentiment\n",
        "\n",
        "1.We can see the Positive Sentiment Dominates over other sentiments it has highest counts hence suggest that strong positive feedback or sentiment in the dataset.\n",
        "\n",
        "2.Negitive and neutral sentiments are minimal having relatively low counts, hence it is good for us interms of business beacuse positive sentiments are dominating over others sentiments.\n",
        "\n",
        "3.Unknown is also having high peak these are the missing values( nan values)\n",
        "replaced by term \"Unknown\" beacuse it ensures transparency and prevents unintended biases.\n",
        "\n",
        "\n",
        "\n",
        "\n"
      ],
      "metadata": {
        "id": "oKR0pnvBZ8vN"
      }
    },
    {
      "cell_type": "markdown",
      "source": [
        "b.Histogram of Sentiment Polarity"
      ],
      "metadata": {
        "id": "McaGAMAfd3Sk"
      }
    },
    {
      "cell_type": "code",
      "source": [
        "#b. Histogram to visualize the distribution of sentiment polarity\n",
        "\n",
        "\n",
        "plt.figure(figsize=(8, 6))  # Set the figure size\n",
        "plt.hist(df_subset['Sentiment_Polarity'], bins=20, color='skyblue', edgecolor='black')  # Access the 'Sentiment_Polarity' column instead of 'Polarity'\n",
        "plt.title('Histogram of Sentiment Polarity', fontsize=16)  # Title of the plot\n",
        "plt.xlabel('Polarity (Positive/Negative)', fontsize=14)  # Label for the x-axis\n",
        "plt.ylabel('Frequency', fontsize=14)  # Label for the y-axis\n",
        "plt.axvline(0, color='red', linestyle='--', label='Neutral Polarity')  # Add a vertical line at 0\n",
        "plt.legend()  # Add legend for the line\n",
        "plt.show()  # Display the plot"
      ],
      "metadata": {
        "id": "0m02QLCDR-_M"
      },
      "execution_count": null,
      "outputs": []
    },
    {
      "cell_type": "markdown",
      "source": [
        "Take Aways - Histogram of Sentiment Polarity\n",
        "\n",
        "1.The histogram has a peak at around 0,which confirms that the most sentiments are neutral.\n",
        "\n",
        "2.Right side Positve-side-sentiment feedback is higher compared to left-side-negitive sentiment feedback.\n",
        "\n",
        "\n",
        "\n",
        "\n",
        "\n"
      ],
      "metadata": {
        "id": "P2hx-Wmvdrbk"
      }
    },
    {
      "cell_type": "markdown",
      "source": [
        "c.Histogram of Sentiment Subjectivity:"
      ],
      "metadata": {
        "id": "7JGQjUsGiW10"
      }
    },
    {
      "cell_type": "code",
      "source": [
        "#Histogram of Sentiment Subjectivity: To see if reviews are more objective or subjective\n",
        "\n",
        "# Histogram to visualize the distribution of sentiment subjectivity\n",
        "plt.figure(figsize=(8, 6))  # Set the figure size\n",
        "plt.hist(df_subset['Sentiment_Subjectivity'], bins=20, color='lightgreen', edgecolor='black')  # Access the correct 'Sentiment_Subjectivity' column\n",
        "plt.title('Histogram of Sentiment Subjectivity', fontsize=16)  # Title of the plot\n",
        "plt.xlabel('Subjectivity (Objective/Subjective)', fontsize=14)  # Label for the x-axis\n",
        "plt.ylabel('Frequency', fontsize=14)  # Label for the y-axis\n",
        "plt.axvline(0.5, color='orange', linestyle='--', label='Threshold (Objective/Subjective)')  # Line at 0.5\n",
        "plt.legend()  # Add legend for the line\n",
        "plt.show()  # Display the plot"
      ],
      "metadata": {
        "id": "zoUsyi5oXgnJ"
      },
      "execution_count": null,
      "outputs": []
    },
    {
      "cell_type": "markdown",
      "source": [
        "Take Aways - Histogram of Sentiment Subjectivity\n",
        "\n",
        "We can see greater frequency of objective toward(0)  it stands talls hear hence most of the feedback are fact-based. and low or decreasing number of highly subjective sentiments(based on personal opinion) hence there is small frequency of subjective sentiments  towards(1).\n",
        "\n",
        "\n",
        "\n",
        "\n",
        "\n"
      ],
      "metadata": {
        "id": "RMPkcPVzjavE"
      }
    },
    {
      "cell_type": "markdown",
      "source": [
        "2. Sentiment vs. App Features\n"
      ],
      "metadata": {
        "id": "IrUfQFDfm8Pg"
      }
    },
    {
      "cell_type": "markdown",
      "source": [
        "a.Boxplot of Sentiment Polarity Vs Category"
      ],
      "metadata": {
        "id": "iooE382s_IcK"
      }
    },
    {
      "cell_type": "code",
      "source": [
        "#Boxplot of Sentiment Polarity vs. Category: To identify categories associated with more positive reviews.\n",
        "\n",
        "# Boxplot\n",
        "plt.figure(figsize=(14, 8))\n",
        "sns.boxplot(y='Category', x='Sentiment_Polarity', data=df_subset, palette='viridis')\n",
        "plt.xticks(rotation=45, ha='right')\n",
        "plt.title('Sentiment Polarity vs. App Category', fontsize=16)\n",
        "plt.ylabel('App Category', fontsize=12)\n",
        "plt.xlabel('Sentiment Polarity', fontsize=12)\n",
        "plt.show()"
      ],
      "metadata": {
        "id": "rk1THj-zXgMJ"
      },
      "execution_count": null,
      "outputs": []
    },
    {
      "cell_type": "markdown",
      "source": [
        "Take Aways - Boxplot of Sentiment Polarity Vs Category\n",
        "\n",
        "1.Most Apps categories like Photography,Travel_and_local, have a predominantly positive feedback,Categories such as Finance and Medical,Dating show some dissatisfaction indicating room for improvement,moreover Entertainment and Games Apps exhibits diverse users opinions(Wide sentiment spread ), and categories like Tools,Weather,Productivity,News and Magazines apps have mixed functional feedback like Neutral feedback,and categories like Shopping and Travel_and_local  apps show positive sentiment.\n",
        "\n",
        "2.Most apps Categories have a higher density of apps with positive sentiment polarity clustering around 0.25 to 0.75 this suggests that users generally have favorable opnions across many app categories.\n",
        "\n",
        "\n",
        "\n",
        "\n",
        "\n",
        "\n"
      ],
      "metadata": {
        "id": "WZ7gFFXDEJ_S"
      }
    },
    {
      "cell_type": "markdown",
      "source": [
        "b.Scatter Plot of Rating vs. Sentiment Polarity"
      ],
      "metadata": {
        "id": "a5AyJS3FFGJt"
      }
    },
    {
      "cell_type": "code",
      "source": [
        "#Scatter Plot of Rating vs. Sentiment Polarity: To see how sentiment correlates with app ratings\n",
        "\n",
        "plt.figure(figsize=(10, 5))\n",
        "sns.scatterplot(x='Rating', y='Sentiment_Polarity', data=df_subset, hue='Category', palette='deep', alpha=0.7)\n",
        "plt.title('Rating vs. Sentiment Polarity', fontsize=16)\n",
        "plt.xlabel('Rating', fontsize=12)\n",
        "plt.ylabel('Sentiment Polarity', fontsize=12)\n",
        "plt.legend(title='Category', bbox_to_anchor=(1.05, 1), loc='upper left')\n",
        "plt.show()"
      ],
      "metadata": {
        "id": "utl8WgUrXgHm"
      },
      "execution_count": null,
      "outputs": []
    },
    {
      "cell_type": "markdown",
      "source": [
        "Take Aways -Scatter Plot of Rating vs. Sentiment Polarity\n",
        "\n",
        "1.Scatter Plot Visualizes the relationship between App ratings and  Sentiment Polarity with different colurs representing the various app categories.\n",
        "\n",
        "2.Apps with higher ratings (close to 5) generally have higher sentiment polarity indicating that users who give higher ratings also leave more positive reviews.\n",
        "\n",
        "3.Apps with low ratings (Below 3) tend to have negative sentiment polarity.\n",
        "\n",
        "4.Most apps fall in the sentiment polarity range between 0 and 1 indicating predominantly positive sentiment from users\n",
        "\n",
        "5.Few apps have higly negative sentiment polarity (below -0.5) which may indicate specific issues or dissatisfaction inthose categories.\n",
        "\n",
        "6.Some categories such as Education,Health and Fitness and Entertainment are consistently associated with high ratings and positive sentiment.\n",
        "\n",
        "7.Categories like dating and medical may show a wider range of sentiment polarity and ratings indicating varied user experiences."
      ],
      "metadata": {
        "id": "8n-xuVSAGbHE"
      }
    },
    {
      "cell_type": "markdown",
      "source": [
        "\n",
        "## **5. Solution to Business Objective**"
      ],
      "metadata": {
        "id": "JcMwzZxoAimU"
      }
    },
    {
      "cell_type": "markdown",
      "source": [
        "#### What do you suggest the client to achieve Business Objective ?\n",
        "Explain Briefly.\n",
        "\n",
        "\n",
        "  1.Focus on high-Performing Categories means priortize app development and marketing for popular categories which are having the high-ratings (e.g.-Games,Family)\n",
        "\n",
        " 2.Improve User-Satisfaction like Address common issues found in negative reviews and low-rated apps and regularly monitor sentiment polarity to improve app quality\n",
        "\n",
        "\n",
        " 3.Free apps generally have more downloads has we saw in our insights but paid\n",
        "   apps can generate higher revenue we can offer free apps with in app purchases or premiuim upgrades to balance downloads and revenue\n",
        "\n",
        "\n",
        "   4.Reduce app size for better user experience especially in regions with limited storage or internet access.\n",
        "\n",
        "\n",
        "  5.We can target specific age groups like teen, everyone by using the insights from content rating\n",
        "\n",
        "\n",
        "6.Some categories have fewer apps  but high demand based on user feedback or sentiment invest in creating this kind of apps.\n",
        "\n",
        " By following some points mentioned above we can achieve the business objective.\n",
        "\n"
      ],
      "metadata": {
        "id": "8G2x9gOozGDZ"
      }
    },
    {
      "cell_type": "markdown",
      "source": [
        "# **Conclusion**"
      ],
      "metadata": {
        "id": "gCX9965dhzqZ"
      }
    },
    {
      "cell_type": "markdown",
      "source": [
        "Information about Data\n",
        "- Found the Data Inconsistency in few Deliveries : Treated the data as per the requirement\n",
        "\n",
        "- Potential Outlier are present in the data\n",
        "\n",
        "Key Insights:\n",
        "\n",
        "1. Category Popularity:\n",
        "Certain categories, such as Games, Family, dominate the Play Store in terms of the number of apps and installs.\n",
        "These categories represent high-demand areas for developers to focus on.\n",
        "\n",
        "2. User Ratings:\n",
        "Apps with higher user ratings tend to attract more downloads, indicating the importance of quality and user satisfaction.\n",
        "Categories like Auto and Vechicals ,Game,Health and Fitness often have higher average ratings, reflecting positive user experiences.\n",
        "\n",
        "3. Pricing Strategy:\n",
        "Free apps significantly outperform paid apps in terms of downloads, but paid apps with premium features can generate more revenue.\n",
        "Freemium models (free apps with in-app purchases) are a popular and effective strategy.\n",
        "\n",
        "4. App Size:\n",
        "Smaller app sizes are generally more preferred by users, particularly in regions with limited internet or storage capacity.\n",
        "Optimizing app size can lead to better user acquisition and retention.\n",
        "Hence  I can suggest the developers that they should focus on optimizing app size without sacrificing functionality as size alone does not guarantee higher installs.\n",
        "\n",
        "5. Sentiment Analysis:\n",
        "Positive sentiment in user reviews correlates strongly with higher ratings and downloads.\n",
        "Developers should monitor user feedback to address negative sentiments and enhance app performance.\n",
        "\n",
        "6. Age Group Targeting:\n",
        "Apps rated for Everyone or Teens attract the highest downloads, beacuse our higher number of apps falls under everyone and teen content ratings suggesting the importance of inclusive design and content.\n",
        "\n",
        "\n",
        "\n",
        "\n",
        "Final-Conclusion:\n",
        "\n",
        "This analysis provides valuable insights for developers to improve app quality, optimize pricing strategies, and tailor apps for target audiences. By leveraging these insights, businesses can achieve better user engagement, higher downloads, and increased revenue in the competitive Play Store market.\n"
      ],
      "metadata": {
        "id": "Fjb1IsQkh3yE"
      }
    },
    {
      "cell_type": "markdown",
      "source": [
        "### ***Hurrah! You have successfully completed your EDA Capstone Project !!!***"
      ],
      "metadata": {
        "id": "gIfDvo9L0UH2"
      }
    }
  ]
}